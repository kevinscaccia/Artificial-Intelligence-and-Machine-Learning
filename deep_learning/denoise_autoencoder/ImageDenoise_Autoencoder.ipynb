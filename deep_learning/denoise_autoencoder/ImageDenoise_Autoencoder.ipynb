{
  "nbformat": 4,
  "nbformat_minor": 0,
  "metadata": {
    "colab": {
      "name": "ANN_AutoEncoder.ipynb",
      "provenance": [],
      "collapsed_sections": []
    },
    "kernelspec": {
      "display_name": "Python 3",
      "name": "python3"
    }
  },
  "cells": [
    {
      "cell_type": "markdown",
      "metadata": {
        "id": "Rh-2pyzDa1iu",
        "colab_type": "text"
      },
      "source": [
        "### Written by Kevin Scaccia <kevin_developer@outlook.com>, Nov 2019\n",
        "\n",
        "## Simple Dense Image Denoise Autoencoder - Keras API\n",
        "### Two different train methodologies - Test on MNIST Dataset\n"
      ]
    },
    {
      "cell_type": "markdown",
      "metadata": {
        "id": "GwbF4X1o6gzc",
        "colab_type": "text"
      },
      "source": [
        "### Imports "
      ]
    },
    {
      "cell_type": "code",
      "metadata": {
        "id": "Xt--cMIwa1Cb",
        "colab_type": "code",
        "colab": {}
      },
      "source": [
        "import numpy as np  # matrix math\n",
        "import matplotlib.pyplot as plt  # plot library\n",
        "import matplotlib.patches as mpatches  # legend on plot\n",
        "import pandas as pd  # load dataset\n",
        "from sklearn import datasets  # example dataset\n",
        "import keras\n",
        "from keras import Sequential\n",
        "from keras.layers import Dense, Dropout\n",
        "from keras.datasets import mnist\n",
        "plt.style.use('ggplot') # plot style"
      ],
      "execution_count": 0,
      "outputs": []
    },
    {
      "cell_type": "markdown",
      "metadata": {
        "id": "Nymj7V01bPFW",
        "colab_type": "text"
      },
      "source": [
        "### Load and Preprocess Mnist dataset\n"
      ]
    },
    {
      "cell_type": "code",
      "metadata": {
        "id": "WuHa0frfpk_1",
        "colab_type": "code",
        "outputId": "0a65b9a1-7664-4e21-e70f-b4ca776804d7",
        "colab": {
          "base_uri": "https://localhost:8080/",
          "height": 315
        }
      },
      "source": [
        "# The data, split between train and test sets\n",
        "(x_train, y_train), (x_test, y_test) = mnist.load_data()\n",
        "# Flatten x\n",
        "train_x = x_train.reshape(x_train.shape[0], 28*28) / 255\n",
        "test_x = x_test.reshape(x_test.shape[0], 28*28) / 255\n",
        "# encode y\n",
        "number_of_classes = 10\n",
        "train_y = np.zeros( (y_train.shape[0], number_of_classes) )\n",
        "test_y = np.zeros( (y_test.shape[0], number_of_classes) )\n",
        "for i in range(len(train_y)):\n",
        "    train_y[i][y_train[i]] = 1.0\n",
        "for i in range(len(test_y)):\n",
        "    test_y[i][y_test[i]] = 1.0\n",
        "#\n",
        "print('train_x shape: ', train_x.shape)\n",
        "print('train_y shape: ', train_y.shape)\n",
        "#\n",
        "plt.imshow(train_x[0].reshape(28,28), cmap='gray')\n",
        "plt.show()"
      ],
      "execution_count": 0,
      "outputs": [
        {
          "output_type": "stream",
          "text": [
            "train_x shape:  (60000, 784)\n",
            "train_y shape:  (60000, 10) \n",
            "\n"
          ],
          "name": "stdout"
        },
        {
          "output_type": "display_data",
          "data": {
            "image/png": "[encoded data removed]",
            "text/plain": [
              "<Figure size 432x288 with 1 Axes>"
            ]
          },
          "metadata": {
            "tags": []
          }
        }
      ]
    },
    {
      "cell_type": "markdown",
      "metadata": {
        "id": "dwJMOmYUjr-_",
        "colab_type": "text"
      },
      "source": [
        "### Define Dense Autoencoder"
      ]
    },
    {
      "cell_type": "code",
      "metadata": {
        "id": "VhPrCrXd7yAC",
        "colab_type": "code",
        "colab": {}
      },
      "source": [
        "input_size = 28 * 28 # flatten image\n",
        "output_size = 10 # number of digits\n",
        "#\n",
        "# Define Model\n",
        "#\n",
        "auto_encoder = Sequential()\n",
        "# encoder\n",
        "auto_encoder.add( keras.layers.Dense(input_size, activation=keras.activations.relu) )\n",
        "auto_encoder.add( keras.layers.Dense(512, activation=keras.activations.relu) )\n",
        " # bottleneck\n",
        "auto_encoder.add( keras.layers.Dense(256, activation=keras.activations.relu) ) \n",
        "# decoder\n",
        "auto_encoder.add( keras.layers.Dense(512, activation=keras.activations.relu) ) \n",
        "auto_encoder.add( keras.layers.Dense(input_size, activation=keras.activations.relu) ) \n",
        "#\n",
        "auto_encoder.compile(loss='mse', optimizer=keras.optimizers.adam(0.01),\n",
        "    metrics=['accuracy'],)"
      ],
      "execution_count": 0,
      "outputs": []
    },
    {
      "cell_type": "markdown",
      "metadata": {
        "id": "q2DnHaZYwriV",
        "colab_type": "text"
      },
      "source": [
        "#### Auxiliary Procedure to Insert Noise in images"
      ]
    },
    {
      "cell_type": "code",
      "metadata": {
        "id": "vqT3VJA1wr9o",
        "colab_type": "code",
        "colab": {}
      },
      "source": [
        "def insert_noise_image(image, amount):\n",
        "    # amount = percent of noise\n",
        "    new_image = image.copy()\n",
        "    amount = int( amount * image.shape[0])\n",
        "    for i in range(amount):\n",
        "        pixel_index = np.random.randint(low=0, high=image.shape[0], size=1) \n",
        "        new_image[pixel_index] = 0\n",
        "    return new_image"
      ],
      "execution_count": 0,
      "outputs": []
    },
    {
      "cell_type": "markdown",
      "metadata": {
        "id": "Ean_-rVYwFLX",
        "colab_type": "text"
      },
      "source": [
        "### Auxiliary Procedure to see the model in Action\n"
      ]
    },
    {
      "cell_type": "code",
      "metadata": {
        "colab_type": "code",
        "id": "lhmNI7q7yTS7",
        "colab": {}
      },
      "source": [
        "# n: how many digits we will display\n",
        "# noise_rate: \n",
        "def validate_model(model, test_x, n, noise_rate=0.1):  \n",
        "    samples, reconstructions = [], []\n",
        "    #\n",
        "    for i in range(n):\n",
        "        sample = insert_noise_image(test_x[i], noise_rate)\n",
        "        samples.append(sample)\n",
        "        rec = model.predict(np.array([sample,]))\n",
        "        reconstructions.append(rec)\n",
        "    #\n",
        "    # Plot Noised Images \n",
        "    #\n",
        "    print(\"Noised Images - noise_rate =\", noise_rate)\n",
        "    plt.figure(figsize=(18, 4))\n",
        "    for i in range(n):\n",
        "        ax = plt.subplot(2, n, i + 1)\n",
        "        plt.imshow(samples[i].reshape(28, 28), cmap='gray')\n",
        "        ax.get_xaxis().set_visible(False); ax.get_yaxis().set_visible(False)\n",
        "    plt.show()\n",
        "    #\n",
        "    # Plot Reconstruction\n",
        "    #\n",
        "    print(\"\\nAutoencoder Reconstruction\")\n",
        "    plt.figure(figsize=(18, 4))\n",
        "    for i in range(n):\n",
        "        ax = plt.subplot(2, n, i + 1 + n)\n",
        "        plt.imshow(reconstructions[i].reshape(28, 28), cmap='gray')\n",
        "        ax.get_xaxis().set_visible(False); ax.get_yaxis().set_visible(False)\n",
        "    plt.show()"
      ],
      "execution_count": 0,
      "outputs": []
    },
    {
      "cell_type": "markdown",
      "metadata": {
        "id": "m2tmmducub-g",
        "colab_type": "text"
      },
      "source": [
        "### Train Model (First methodology)\n",
        "#### Input and Output are the same original images (without noise)\n",
        "\n"
      ]
    },
    {
      "cell_type": "code",
      "metadata": {
        "id": "kTx_4cWourf5",
        "colab_type": "code",
        "outputId": "07aa8a0d-2f11-4217-ee56-db2f67ff2ae4",
        "colab": {
          "base_uri": "https://localhost:8080/",
          "height": 299
        }
      },
      "source": [
        "train_split = 60000 # train over 60000 examples\n",
        "epochs = 200 # 200 epochs limit\n",
        "# early stop callback\n",
        "early_stopping = keras.callbacks.EarlyStopping(monitor='val_loss', \n",
        "    min_delta=0.001, patience=20, verbose=0, mode='auto', baseline=None, restore_best_weights=True)\n",
        "#\n",
        "history = auto_encoder.fit(train_x[:train_split], train_x[:train_split], \n",
        "    batch_size=1000, epochs=epochs, verbose=1, validation_split=0.2, callbacks=[early_stopping])\n",
        "#\n",
        "plt.figure(figsize=(10,4)); plt.title(\"Train LOSS\"); plt.xlabel(\"Epochs\"); plt.ylabel(\"LOSS\")\n",
        "plt.plot(history.history['loss'][10:]); plt.show()"
      ],
      "execution_count": 0,
      "outputs": [
        {
          "output_type": "display_data",
          "data": {
            "image/png": "[encoded data removed]",
            "text/plain": [
              "<Figure size 720x288 with 1 Axes>"
            ]
          },
          "metadata": {
            "tags": []
          }
        }
      ]
    },
    {
      "cell_type": "markdown",
      "metadata": {
        "id": "LzM2qqBuyn0g",
        "colab_type": "text"
      },
      "source": [
        "#### Model Validation"
      ]
    },
    {
      "cell_type": "code",
      "metadata": {
        "id": "o0NHFfU1wcos",
        "colab_type": "code",
        "outputId": "a58ef414-b641-4e03-b729-5f04ab28f588",
        "colab": {
          "base_uri": "https://localhost:8080/",
          "height": 277
        }
      },
      "source": [
        "validate_model(auto_encoder, test_x[10:], 10, noise_rate=0.98)"
      ],
      "execution_count": 0,
      "outputs": [
        {
          "output_type": "stream",
          "text": [
            "Noised Images - noise_rate = 0.98\n"
          ],
          "name": "stdout"
        },
        {
          "output_type": "display_data",
          "data": {
            "image/png": "[encoded data removed]",
            "text/plain": [
              "<Figure size 1296x288 with 10 Axes>"
            ]
          },
          "metadata": {
            "tags": []
          }
        },
        {
          "output_type": "stream",
          "text": [
            "\n",
            "Autoencoder Reconstruction\n"
          ],
          "name": "stdout"
        },
        {
          "output_type": "display_data",
          "data": {
            "image/png": "[encoded data removed]",
            "text/plain": [
              "<Figure size 1296x288 with 10 Axes>"
            ]
          },
          "metadata": {
            "tags": []
          }
        }
      ]
    },
    {
      "cell_type": "markdown",
      "metadata": {
        "id": "mKgbNHiyvaTD",
        "colab_type": "text"
      },
      "source": [
        "### Train Model (Second methodology)\n",
        "#### Input are noised images and Output are the original corresponding images (without noise)\n",
        "We will train the autoencoder to map noisy digits images to clean digits images."
      ]
    },
    {
      "cell_type": "code",
      "metadata": {
        "id": "zQquxvL4-dYe",
        "colab_type": "code",
        "outputId": "7f2527d2-6a3b-423c-c088-9133b8e6e236",
        "colab": {
          "base_uri": "https://localhost:8080/",
          "height": 1000
        }
      },
      "source": [
        "train_split = 60000 # train over 60000 examples\n",
        "epochs = 200 # 200 epochs limit\n",
        "noise_amount = 0.98\n",
        "noised_input_train = np.array( [insert_noise_image(img, noise_amount) for img in train_x[:train_split]] )\n",
        "# early stop callback\n",
        "early_stopping = keras.callbacks.EarlyStopping(monitor='val_loss', \n",
        "    min_delta=0.001, patience=20, verbose=0, mode='auto', baseline=None, restore_best_weights=True)\n",
        "#\n",
        "history = auto_encoder.fit(noised_input_train, train_x[:train_split], \n",
        "    batch_size=1000, epochs=epochs, verbose=1, validation_split=0.2, callbacks=[early_stopping])\n",
        "#\n",
        "plt.figure(figsize=(10,4)); plt.title(\"Train LOSS\"); plt.xlabel(\"Epochs\"); plt.ylabel(\"LOSS\")\n",
        "plt.plot(history.history['loss'][10:]); plt.show()"
      ],
      "execution_count": 0,
      "outputs": [
        {
          "output_type": "stream",
          "text": [
            "48000/48000 [==============================] - 10s 201us/step - loss: 0.0250 - acc: 0.0115 - val_loss: 0.0252 - val_acc: 0.0109\n",
            "Epoch 20/200\n",
            "48000/48000 [==============================] - 10s 201us/step - loss: 0.0248 - acc: 0.0110 - val_loss: 0.0251 - val_acc: 0.0121\n",
            "Epoch 21/200\n",
            "48000/48000 [==============================] - 10s 200us/step - loss: 0.0247 - acc: 0.0115 - val_loss: 0.0250 - val_acc: 0.0110\n",
            "Epoch 22/200\n",
            "48000/48000 [==============================] - 10s 201us/step - loss: 0.0247 - acc: 0.0114 - val_loss: 0.0255 - val_acc: 0.0101\n",
            "Epoch 23/200\n",
            "48000/48000 [==============================] - 10s 201us/step - loss: 0.0247 - acc: 0.0111 - val_loss: 0.0251 - val_acc: 0.0092\n",
            "Epoch 24/200\n",
            "48000/48000 [==============================] - 10s 199us/step - loss: 0.0246 - acc: 0.0117 - val_loss: 0.0251 - val_acc: 0.0121\n",
            "Epoch 25/200\n",
            "48000/48000 [==============================] - 10s 200us/step - loss: 0.0246 - acc: 0.0111 - val_loss: 0.0249 - val_acc: 0.0117\n",
            "Epoch 26/200\n",
            "48000/48000 [==============================] - 10s 201us/step - loss: 0.0245 - acc: 0.0124 - val_loss: 0.0248 - val_acc: 0.0118\n",
            "Epoch 27/200\n",
            "48000/48000 [==============================] - 10s 201us/step - loss: 0.0245 - acc: 0.0114 - val_loss: 0.0251 - val_acc: 0.0115\n",
            "Epoch 28/200\n",
            "48000/48000 [==============================] - 10s 200us/step - loss: 0.0243 - acc: 0.0119 - val_loss: 0.0246 - val_acc: 0.0096\n",
            "Epoch 29/200\n",
            "48000/48000 [==============================] - 10s 200us/step - loss: 0.0242 - acc: 0.0114 - val_loss: 0.0246 - val_acc: 0.0097\n",
            "Epoch 30/200\n",
            "48000/48000 [==============================] - 10s 200us/step - loss: 0.0242 - acc: 0.0110 - val_loss: 0.0245 - val_acc: 0.0123\n",
            "Epoch 31/200\n",
            "48000/48000 [==============================] - 10s 200us/step - loss: 0.0241 - acc: 0.0118 - val_loss: 0.0244 - val_acc: 0.0107\n",
            "Epoch 32/200\n",
            "48000/48000 [==============================] - 10s 200us/step - loss: 0.0240 - acc: 0.0118 - val_loss: 0.0244 - val_acc: 0.0098\n",
            "Epoch 33/200\n",
            "48000/48000 [==============================] - 10s 199us/step - loss: 0.0241 - acc: 0.0121 - val_loss: 0.0244 - val_acc: 0.0105\n",
            "Epoch 34/200\n",
            "48000/48000 [==============================] - 10s 199us/step - loss: 0.0239 - acc: 0.0116 - val_loss: 0.0241 - val_acc: 0.0108\n",
            "Epoch 35/200\n",
            "48000/48000 [==============================] - 10s 200us/step - loss: 0.0239 - acc: 0.0115 - val_loss: 0.0242 - val_acc: 0.0097\n",
            "Epoch 36/200\n",
            "48000/48000 [==============================] - 10s 200us/step - loss: 0.0238 - acc: 0.0111 - val_loss: 0.0243 - val_acc: 0.0113\n",
            "Epoch 37/200\n",
            "48000/48000 [==============================] - 10s 201us/step - loss: 0.0238 - acc: 0.0113 - val_loss: 0.0242 - val_acc: 0.0104\n",
            "Epoch 38/200\n",
            "48000/48000 [==============================] - 10s 201us/step - loss: 0.0237 - acc: 0.0117 - val_loss: 0.0242 - val_acc: 0.0107\n",
            "Epoch 39/200\n",
            "48000/48000 [==============================] - 10s 202us/step - loss: 0.0237 - acc: 0.0122 - val_loss: 0.0242 - val_acc: 0.0085\n",
            "Epoch 40/200\n",
            "48000/48000 [==============================] - 10s 201us/step - loss: 0.0236 - acc: 0.0119 - val_loss: 0.0241 - val_acc: 0.0110\n",
            "Epoch 41/200\n",
            "48000/48000 [==============================] - 10s 201us/step - loss: 0.0235 - acc: 0.0111 - val_loss: 0.0241 - val_acc: 0.0124\n",
            "Epoch 42/200\n",
            "48000/48000 [==============================] - 10s 201us/step - loss: 0.0236 - acc: 0.0118 - val_loss: 0.0243 - val_acc: 0.0105\n",
            "Epoch 43/200\n",
            "48000/48000 [==============================] - 10s 200us/step - loss: 0.0236 - acc: 0.0118 - val_loss: 0.0239 - val_acc: 0.0114\n",
            "Epoch 44/200\n",
            "48000/48000 [==============================] - 10s 201us/step - loss: 0.0236 - acc: 0.0121 - val_loss: 0.0240 - val_acc: 0.0092\n",
            "Epoch 45/200\n",
            "48000/48000 [==============================] - 10s 201us/step - loss: 0.0234 - acc: 0.0118 - val_loss: 0.0241 - val_acc: 0.0104\n",
            "Epoch 46/200\n",
            "48000/48000 [==============================] - 10s 202us/step - loss: 0.0234 - acc: 0.0120 - val_loss: 0.0242 - val_acc: 0.0098\n",
            "Epoch 47/200\n",
            "48000/48000 [==============================] - 10s 200us/step - loss: 0.0233 - acc: 0.0115 - val_loss: 0.0237 - val_acc: 0.0114\n",
            "Epoch 48/200\n",
            "48000/48000 [==============================] - 10s 200us/step - loss: 0.0232 - acc: 0.0115 - val_loss: 0.0240 - val_acc: 0.0114\n",
            "Epoch 49/200\n",
            "48000/48000 [==============================] - 10s 200us/step - loss: 0.0233 - acc: 0.0115 - val_loss: 0.0238 - val_acc: 0.0124\n",
            "Epoch 50/200\n",
            "48000/48000 [==============================] - 10s 201us/step - loss: 0.0232 - acc: 0.0121 - val_loss: 0.0235 - val_acc: 0.0100\n",
            "Epoch 51/200\n",
            "48000/48000 [==============================] - 10s 202us/step - loss: 0.0231 - acc: 0.0126 - val_loss: 0.0242 - val_acc: 0.0110\n",
            "Epoch 52/200\n",
            "48000/48000 [==============================] - 10s 200us/step - loss: 0.0232 - acc: 0.0119 - val_loss: 0.0239 - val_acc: 0.0113\n",
            "Epoch 53/200\n",
            "48000/48000 [==============================] - 10s 199us/step - loss: 0.0233 - acc: 0.0115 - val_loss: 0.0236 - val_acc: 0.0121\n",
            "Epoch 54/200\n",
            "48000/48000 [==============================] - 10s 199us/step - loss: 0.0232 - acc: 0.0114 - val_loss: 0.0240 - val_acc: 0.0109\n"
          ],
          "name": "stdout"
        },
        {
          "output_type": "display_data",
          "data": {
            "image/png": "[encoded data removed]",
            "text/plain": [
              "<Figure size 720x288 with 1 Axes>"
            ]
          },
          "metadata": {
            "tags": []
          }
        }
      ]
    },
    {
      "cell_type": "markdown",
      "metadata": {
        "id": "x3F4JGuSCmD-",
        "colab_type": "text"
      },
      "source": [
        "#### Model Validation"
      ]
    },
    {
      "cell_type": "code",
      "metadata": {
        "id": "BCX1L8ET-c0T",
        "colab_type": "code",
        "outputId": "c9219b6f-ac2f-41e4-9c1c-94b0ffcf6f12",
        "colab": {
          "base_uri": "https://localhost:8080/",
          "height": 277
        }
      },
      "source": [
        "validate_model(auto_encoder, test_x[100:], 10, noise_rate=2)"
      ],
      "execution_count": 0,
      "outputs": [
        {
          "output_type": "stream",
          "text": [
            "Noised Images - noise_rate = 2\n"
          ],
          "name": "stdout"
        },
        {
          "output_type": "display_data",
          "data": {
            "image/png": "[encoded data removed]",
            "text/plain": [
              "<Figure size 1296x288 with 10 Axes>"
            ]
          },
          "metadata": {
            "tags": []
          }
        },
        {
          "output_type": "stream",
          "text": [
            "\n",
            "Autoencoder Reconstruction\n"
          ],
          "name": "stdout"
        },
        {
          "output_type": "display_data",
          "data": {
            "image/png": "[encoded data removed]",
            "text/plain": [
              "<Figure size 1296x288 with 10 Axes>"
            ]
          },
          "metadata": {
            "tags": []
          }
        }
      ]
    },
    {
      "cell_type": "code",
      "metadata": {
        "id": "ZB7aK8Xr7BTo",
        "colab_type": "code",
        "outputId": "4dde7acb-8265-4b52-8e09-87807c64e6b3",
        "colab": {
          "base_uri": "https://localhost:8080/",
          "height": 304
        }
      },
      "source": [
        "validate_model(auto_encoder, test_x[108:], 4, noise_rate=1.5)"
      ],
      "execution_count": 0,
      "outputs": [
        {
          "output_type": "stream",
          "text": [
            "Noised Images - noise_rate = 1.5\n"
          ],
          "name": "stdout"
        },
        {
          "output_type": "display_data",
          "data": {
            "image/png": "[encoded data removed]",
            "text/plain": [
              "<Figure size 720x288 with 4 Axes>"
            ]
          },
          "metadata": {
            "tags": []
          }
        },
        {
          "output_type": "stream",
          "text": [
            "\n",
            "Autoencoder Reconstruction\n"
          ],
          "name": "stdout"
        },
        {
          "output_type": "display_data",
          "data": {
            "image/png": "[encoded data removed]",
            "text/plain": [
              "<Figure size 720x288 with 4 Axes>"
            ]
          },
          "metadata": {
            "tags": []
          }
        }
      ]
    },
    {
      "cell_type": "markdown",
      "metadata": {
        "id": "FYOagtzn609w",
        "colab_type": "text"
      },
      "source": [
        "### Conclusion"
      ]
    },
    {
      "cell_type": "markdown",
      "metadata": {
        "id": "LpR2wYdt63r-",
        "colab_type": "text"
      },
      "source": [
        "Based on an intuitive visual validation of the model reconstruction results we can say that the network, although pretty simple, can learn to encode the distribution of data in a smaller dimension that can still be decoded. The second methodology turned out to be more efficient in recovering corrupted images because that is exactly what the model learned, given that corrupted images reconstructed the original images."
      ]
    }
  ]
}
